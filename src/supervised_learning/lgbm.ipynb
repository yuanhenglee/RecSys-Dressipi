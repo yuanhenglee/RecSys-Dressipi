{
 "cells": [
  {
   "cell_type": "code",
   "execution_count": 8,
   "metadata": {},
   "outputs": [],
   "source": [
    "import lightgbm as lgb\n",
    "import pandas as pd"
   ]
  },
  {
   "cell_type": "code",
   "execution_count": 3,
   "metadata": {},
   "outputs": [],
   "source": [
    "# project_root_path = '/content/drive/MyDrive/NCCU1102/WSM/proj3/RecSys-Dressipi/'\n",
    "project_root_path = '../..'"
   ]
  },
  {
   "cell_type": "code",
   "execution_count": 21,
   "metadata": {},
   "outputs": [],
   "source": [
    "def get_X_y( file ):\n",
    "    df = pd.read_csv(file, engine='pyarrow')\n",
    "    return df.drop('purchased', 1), df['purchased']\n",
    "    # with open(file) as f:\n",
    "    #     data = f.readlines()\n",
    "    # X = []\n",
    "    # y = []\n",
    "    # for line in data[1:]:\n",
    "    #     row = [float(v) for v in line.split(',')]\n",
    "    #     X.append(row[:-1])\n",
    "    #     y.append(row[-1])\n",
    "    # return X, y\n",
    "\n",
    "def get_X( file ):\n",
    "    with open(file) as f:\n",
    "        data = f.readlines()\n",
    "    X = []\n",
    "    for line in data[1:]:\n",
    "        row = [float(v) for v in line.split(',')]\n",
    "        X.append(row)\n",
    "    return X\n"
   ]
  },
  {
   "cell_type": "code",
   "execution_count": 29,
   "metadata": {},
   "outputs": [
    {
     "name": "stderr",
     "output_type": "stream",
     "text": [
      "/var/folders/r2/fjlwzc7x3ks2r1npkhm9jzbh0000gn/T/ipykernel_79307/169829599.py:3: FutureWarning: In a future version of pandas all arguments of DataFrame.drop except for the argument 'labels' will be keyword-only.\n",
      "  return df.drop('purchased', 1), df['purchased']\n"
     ]
    },
    {
     "name": "stdout",
     "output_type": "stream",
     "text": [
      "CPU times: user 16.5 s, sys: 7.88 s, total: 24.3 s\n",
      "Wall time: 36.4 s\n"
     ]
    }
   ],
   "source": [
    "%%time\n",
    "from sklearn.model_selection import train_test_split\n",
    "\n",
    "# fit training data\n",
    "file = project_root_path + '/dataset/train_features/train_' + str(1)\n",
    "X, y = get_X_y( file )\n",
    "\n",
    "X_train, X_test, y_train, y_test = train_test_split(X, y, test_size=0.2, random_state=1)\n",
    "X_train, X_val, y_train, y_val = train_test_split(X_train, y_train, test_size=0.2, random_state=1)\n",
    "\n",
    "query_train = [len(X_train)]\n",
    "query_train = [31936] * 1000\n",
    "query_val = [len(X_val)]\n",
    "query_test = [len(X_test)]"
   ]
  },
  {
   "cell_type": "code",
   "execution_count": 34,
   "metadata": {},
   "outputs": [
    {
     "data": {
      "text/plain": [
       "True"
      ]
     },
     "execution_count": 34,
     "metadata": {},
     "output_type": "execute_result"
    }
   ],
   "source": [
    "len(X_train) == 31936 * 1000"
   ]
  },
  {
   "cell_type": "code",
   "execution_count": 33,
   "metadata": {},
   "outputs": [
    {
     "name": "stderr",
     "output_type": "stream",
     "text": [
      "/opt/homebrew/lib/python3.9/site-packages/lightgbm/sklearn.py:726: UserWarning: 'early_stopping_rounds' argument is deprecated and will be removed in a future release of LightGBM. Pass 'early_stopping()' callback via 'callbacks' argument instead.\n",
      "  _log_warning(\"'early_stopping_rounds' argument is deprecated and will be removed in a future release of LightGBM. \"\n",
      "[LightGBM] [Fatal] Sum of query counts is not same with #data\n"
     ]
    },
    {
     "ename": "LightGBMError",
     "evalue": "Sum of query counts is not same with #data",
     "output_type": "error",
     "traceback": [
      "\u001b[0;31m---------------------------------------------------------------------------\u001b[0m",
      "\u001b[0;31mLightGBMError\u001b[0m                             Traceback (most recent call last)",
      "\u001b[1;32m/Users/yhl/Documents/NCCU1102/WSM/proj3/RecSys-Dressipi/src/supervised_learning/lgbm.ipynb Cell 5'\u001b[0m in \u001b[0;36m<cell line: 4>\u001b[0;34m()\u001b[0m\n\u001b[1;32m      <a href='vscode-notebook-cell:/Users/yhl/Documents/NCCU1102/WSM/proj3/RecSys-Dressipi/src/supervised_learning/lgbm.ipynb#ch0000003?line=0'>1</a>\u001b[0m gbm \u001b[39m=\u001b[39m lgb\u001b[39m.\u001b[39mLGBMRanker()\n\u001b[0;32m----> <a href='vscode-notebook-cell:/Users/yhl/Documents/NCCU1102/WSM/proj3/RecSys-Dressipi/src/supervised_learning/lgbm.ipynb#ch0000003?line=3'>4</a>\u001b[0m gbm\u001b[39m.\u001b[39;49mfit(X_train, y_train, group\u001b[39m=\u001b[39;49mquery_train,\n\u001b[1;32m      <a href='vscode-notebook-cell:/Users/yhl/Documents/NCCU1102/WSM/proj3/RecSys-Dressipi/src/supervised_learning/lgbm.ipynb#ch0000003?line=4'>5</a>\u001b[0m         eval_set\u001b[39m=\u001b[39;49m[(X_val, y_val)], eval_group\u001b[39m=\u001b[39;49m[query_val],\n\u001b[1;32m      <a href='vscode-notebook-cell:/Users/yhl/Documents/NCCU1102/WSM/proj3/RecSys-Dressipi/src/supervised_learning/lgbm.ipynb#ch0000003?line=5'>6</a>\u001b[0m         eval_at\u001b[39m=\u001b[39;49m[\u001b[39m5\u001b[39;49m, \u001b[39m10\u001b[39;49m, \u001b[39m20\u001b[39;49m], early_stopping_rounds\u001b[39m=\u001b[39;49m\u001b[39m50\u001b[39;49m)\n",
      "File \u001b[0;32m/opt/homebrew/lib/python3.9/site-packages/lightgbm/sklearn.py:1067\u001b[0m, in \u001b[0;36mLGBMRanker.fit\u001b[0;34m(self, X, y, sample_weight, init_score, group, eval_set, eval_names, eval_sample_weight, eval_init_score, eval_group, eval_metric, eval_at, early_stopping_rounds, verbose, feature_name, categorical_feature, callbacks, init_model)\u001b[0m\n\u001b[1;32m   <a href='file:///opt/homebrew/lib/python3.9/site-packages/lightgbm/sklearn.py?line=1062'>1063</a>\u001b[0m         \u001b[39mraise\u001b[39;00m \u001b[39mValueError\u001b[39;00m(\u001b[39m\"\u001b[39m\u001b[39mShould set group for all eval datasets for ranking task; \u001b[39m\u001b[39m\"\u001b[39m\n\u001b[1;32m   <a href='file:///opt/homebrew/lib/python3.9/site-packages/lightgbm/sklearn.py?line=1063'>1064</a>\u001b[0m                          \u001b[39m\"\u001b[39m\u001b[39mif you use dict, the index should start from 0\u001b[39m\u001b[39m\"\u001b[39m)\n\u001b[1;32m   <a href='file:///opt/homebrew/lib/python3.9/site-packages/lightgbm/sklearn.py?line=1065'>1066</a>\u001b[0m \u001b[39mself\u001b[39m\u001b[39m.\u001b[39m_eval_at \u001b[39m=\u001b[39m eval_at\n\u001b[0;32m-> <a href='file:///opt/homebrew/lib/python3.9/site-packages/lightgbm/sklearn.py?line=1066'>1067</a>\u001b[0m \u001b[39msuper\u001b[39;49m()\u001b[39m.\u001b[39;49mfit(X, y, sample_weight\u001b[39m=\u001b[39;49msample_weight, init_score\u001b[39m=\u001b[39;49minit_score, group\u001b[39m=\u001b[39;49mgroup,\n\u001b[1;32m   <a href='file:///opt/homebrew/lib/python3.9/site-packages/lightgbm/sklearn.py?line=1067'>1068</a>\u001b[0m             eval_set\u001b[39m=\u001b[39;49meval_set, eval_names\u001b[39m=\u001b[39;49meval_names, eval_sample_weight\u001b[39m=\u001b[39;49meval_sample_weight,\n\u001b[1;32m   <a href='file:///opt/homebrew/lib/python3.9/site-packages/lightgbm/sklearn.py?line=1068'>1069</a>\u001b[0m             eval_init_score\u001b[39m=\u001b[39;49meval_init_score, eval_group\u001b[39m=\u001b[39;49meval_group, eval_metric\u001b[39m=\u001b[39;49meval_metric,\n\u001b[1;32m   <a href='file:///opt/homebrew/lib/python3.9/site-packages/lightgbm/sklearn.py?line=1069'>1070</a>\u001b[0m             early_stopping_rounds\u001b[39m=\u001b[39;49mearly_stopping_rounds, verbose\u001b[39m=\u001b[39;49mverbose, feature_name\u001b[39m=\u001b[39;49mfeature_name,\n\u001b[1;32m   <a href='file:///opt/homebrew/lib/python3.9/site-packages/lightgbm/sklearn.py?line=1070'>1071</a>\u001b[0m             categorical_feature\u001b[39m=\u001b[39;49mcategorical_feature, callbacks\u001b[39m=\u001b[39;49mcallbacks, init_model\u001b[39m=\u001b[39;49minit_model)\n\u001b[1;32m   <a href='file:///opt/homebrew/lib/python3.9/site-packages/lightgbm/sklearn.py?line=1071'>1072</a>\u001b[0m \u001b[39mreturn\u001b[39;00m \u001b[39mself\u001b[39m\n",
      "File \u001b[0;32m/opt/homebrew/lib/python3.9/site-packages/lightgbm/sklearn.py:748\u001b[0m, in \u001b[0;36mLGBMModel.fit\u001b[0;34m(self, X, y, sample_weight, init_score, group, eval_set, eval_names, eval_sample_weight, eval_class_weight, eval_init_score, eval_group, eval_metric, early_stopping_rounds, verbose, feature_name, categorical_feature, callbacks, init_model)\u001b[0m\n\u001b[1;32m    <a href='file:///opt/homebrew/lib/python3.9/site-packages/lightgbm/sklearn.py?line=744'>745</a>\u001b[0m evals_result \u001b[39m=\u001b[39m {}\n\u001b[1;32m    <a href='file:///opt/homebrew/lib/python3.9/site-packages/lightgbm/sklearn.py?line=745'>746</a>\u001b[0m callbacks\u001b[39m.\u001b[39mappend(record_evaluation(evals_result))\n\u001b[0;32m--> <a href='file:///opt/homebrew/lib/python3.9/site-packages/lightgbm/sklearn.py?line=747'>748</a>\u001b[0m \u001b[39mself\u001b[39m\u001b[39m.\u001b[39m_Booster \u001b[39m=\u001b[39m train(\n\u001b[1;32m    <a href='file:///opt/homebrew/lib/python3.9/site-packages/lightgbm/sklearn.py?line=748'>749</a>\u001b[0m     params\u001b[39m=\u001b[39;49mparams,\n\u001b[1;32m    <a href='file:///opt/homebrew/lib/python3.9/site-packages/lightgbm/sklearn.py?line=749'>750</a>\u001b[0m     train_set\u001b[39m=\u001b[39;49mtrain_set,\n\u001b[1;32m    <a href='file:///opt/homebrew/lib/python3.9/site-packages/lightgbm/sklearn.py?line=750'>751</a>\u001b[0m     num_boost_round\u001b[39m=\u001b[39;49m\u001b[39mself\u001b[39;49m\u001b[39m.\u001b[39;49mn_estimators,\n\u001b[1;32m    <a href='file:///opt/homebrew/lib/python3.9/site-packages/lightgbm/sklearn.py?line=751'>752</a>\u001b[0m     valid_sets\u001b[39m=\u001b[39;49mvalid_sets,\n\u001b[1;32m    <a href='file:///opt/homebrew/lib/python3.9/site-packages/lightgbm/sklearn.py?line=752'>753</a>\u001b[0m     valid_names\u001b[39m=\u001b[39;49meval_names,\n\u001b[1;32m    <a href='file:///opt/homebrew/lib/python3.9/site-packages/lightgbm/sklearn.py?line=753'>754</a>\u001b[0m     fobj\u001b[39m=\u001b[39;49m\u001b[39mself\u001b[39;49m\u001b[39m.\u001b[39;49m_fobj,\n\u001b[1;32m    <a href='file:///opt/homebrew/lib/python3.9/site-packages/lightgbm/sklearn.py?line=754'>755</a>\u001b[0m     feval\u001b[39m=\u001b[39;49meval_metrics_callable,\n\u001b[1;32m    <a href='file:///opt/homebrew/lib/python3.9/site-packages/lightgbm/sklearn.py?line=755'>756</a>\u001b[0m     init_model\u001b[39m=\u001b[39;49minit_model,\n\u001b[1;32m    <a href='file:///opt/homebrew/lib/python3.9/site-packages/lightgbm/sklearn.py?line=756'>757</a>\u001b[0m     feature_name\u001b[39m=\u001b[39;49mfeature_name,\n\u001b[1;32m    <a href='file:///opt/homebrew/lib/python3.9/site-packages/lightgbm/sklearn.py?line=757'>758</a>\u001b[0m     callbacks\u001b[39m=\u001b[39;49mcallbacks\n\u001b[1;32m    <a href='file:///opt/homebrew/lib/python3.9/site-packages/lightgbm/sklearn.py?line=758'>759</a>\u001b[0m )\n\u001b[1;32m    <a href='file:///opt/homebrew/lib/python3.9/site-packages/lightgbm/sklearn.py?line=760'>761</a>\u001b[0m \u001b[39mif\u001b[39;00m evals_result:\n\u001b[1;32m    <a href='file:///opt/homebrew/lib/python3.9/site-packages/lightgbm/sklearn.py?line=761'>762</a>\u001b[0m     \u001b[39mself\u001b[39m\u001b[39m.\u001b[39m_evals_result \u001b[39m=\u001b[39m evals_result\n",
      "File \u001b[0;32m/opt/homebrew/lib/python3.9/site-packages/lightgbm/engine.py:271\u001b[0m, in \u001b[0;36mtrain\u001b[0;34m(params, train_set, num_boost_round, valid_sets, valid_names, fobj, feval, init_model, feature_name, categorical_feature, early_stopping_rounds, evals_result, verbose_eval, learning_rates, keep_training_booster, callbacks)\u001b[0m\n\u001b[1;32m    <a href='file:///opt/homebrew/lib/python3.9/site-packages/lightgbm/engine.py?line=268'>269</a>\u001b[0m \u001b[39m# construct booster\u001b[39;00m\n\u001b[1;32m    <a href='file:///opt/homebrew/lib/python3.9/site-packages/lightgbm/engine.py?line=269'>270</a>\u001b[0m \u001b[39mtry\u001b[39;00m:\n\u001b[0;32m--> <a href='file:///opt/homebrew/lib/python3.9/site-packages/lightgbm/engine.py?line=270'>271</a>\u001b[0m     booster \u001b[39m=\u001b[39m Booster(params\u001b[39m=\u001b[39;49mparams, train_set\u001b[39m=\u001b[39;49mtrain_set)\n\u001b[1;32m    <a href='file:///opt/homebrew/lib/python3.9/site-packages/lightgbm/engine.py?line=271'>272</a>\u001b[0m     \u001b[39mif\u001b[39;00m is_valid_contain_train:\n\u001b[1;32m    <a href='file:///opt/homebrew/lib/python3.9/site-packages/lightgbm/engine.py?line=272'>273</a>\u001b[0m         booster\u001b[39m.\u001b[39mset_train_data_name(train_data_name)\n",
      "File \u001b[0;32m/opt/homebrew/lib/python3.9/site-packages/lightgbm/basic.py:2605\u001b[0m, in \u001b[0;36mBooster.__init__\u001b[0;34m(self, params, train_set, model_file, model_str, silent)\u001b[0m\n\u001b[1;32m   <a href='file:///opt/homebrew/lib/python3.9/site-packages/lightgbm/basic.py?line=2597'>2598</a>\u001b[0m     \u001b[39mself\u001b[39m\u001b[39m.\u001b[39mset_network(\n\u001b[1;32m   <a href='file:///opt/homebrew/lib/python3.9/site-packages/lightgbm/basic.py?line=2598'>2599</a>\u001b[0m         machines\u001b[39m=\u001b[39mmachines,\n\u001b[1;32m   <a href='file:///opt/homebrew/lib/python3.9/site-packages/lightgbm/basic.py?line=2599'>2600</a>\u001b[0m         local_listen_port\u001b[39m=\u001b[39mparams[\u001b[39m\"\u001b[39m\u001b[39mlocal_listen_port\u001b[39m\u001b[39m\"\u001b[39m],\n\u001b[1;32m   <a href='file:///opt/homebrew/lib/python3.9/site-packages/lightgbm/basic.py?line=2600'>2601</a>\u001b[0m         listen_time_out\u001b[39m=\u001b[39mparams\u001b[39m.\u001b[39mget(\u001b[39m\"\u001b[39m\u001b[39mtime_out\u001b[39m\u001b[39m\"\u001b[39m, \u001b[39m120\u001b[39m),\n\u001b[1;32m   <a href='file:///opt/homebrew/lib/python3.9/site-packages/lightgbm/basic.py?line=2601'>2602</a>\u001b[0m         num_machines\u001b[39m=\u001b[39mparams[\u001b[39m\"\u001b[39m\u001b[39mnum_machines\u001b[39m\u001b[39m\"\u001b[39m]\n\u001b[1;32m   <a href='file:///opt/homebrew/lib/python3.9/site-packages/lightgbm/basic.py?line=2602'>2603</a>\u001b[0m     )\n\u001b[1;32m   <a href='file:///opt/homebrew/lib/python3.9/site-packages/lightgbm/basic.py?line=2603'>2604</a>\u001b[0m \u001b[39m# construct booster object\u001b[39;00m\n\u001b[0;32m-> <a href='file:///opt/homebrew/lib/python3.9/site-packages/lightgbm/basic.py?line=2604'>2605</a>\u001b[0m train_set\u001b[39m.\u001b[39;49mconstruct()\n\u001b[1;32m   <a href='file:///opt/homebrew/lib/python3.9/site-packages/lightgbm/basic.py?line=2605'>2606</a>\u001b[0m \u001b[39m# copy the parameters from train_set\u001b[39;00m\n\u001b[1;32m   <a href='file:///opt/homebrew/lib/python3.9/site-packages/lightgbm/basic.py?line=2606'>2607</a>\u001b[0m params\u001b[39m.\u001b[39mupdate(train_set\u001b[39m.\u001b[39mget_params())\n",
      "File \u001b[0;32m/opt/homebrew/lib/python3.9/site-packages/lightgbm/basic.py:1815\u001b[0m, in \u001b[0;36mDataset.construct\u001b[0;34m(self)\u001b[0m\n\u001b[1;32m   <a href='file:///opt/homebrew/lib/python3.9/site-packages/lightgbm/basic.py?line=1811'>1812</a>\u001b[0m             \u001b[39mself\u001b[39m\u001b[39m.\u001b[39m_set_init_score_by_predictor(\u001b[39mself\u001b[39m\u001b[39m.\u001b[39m_predictor, \u001b[39mself\u001b[39m\u001b[39m.\u001b[39mdata, used_indices)\n\u001b[1;32m   <a href='file:///opt/homebrew/lib/python3.9/site-packages/lightgbm/basic.py?line=1812'>1813</a>\u001b[0m \u001b[39melse\u001b[39;00m:\n\u001b[1;32m   <a href='file:///opt/homebrew/lib/python3.9/site-packages/lightgbm/basic.py?line=1813'>1814</a>\u001b[0m     \u001b[39m# create train\u001b[39;00m\n\u001b[0;32m-> <a href='file:///opt/homebrew/lib/python3.9/site-packages/lightgbm/basic.py?line=1814'>1815</a>\u001b[0m     \u001b[39mself\u001b[39;49m\u001b[39m.\u001b[39;49m_lazy_init(\u001b[39mself\u001b[39;49m\u001b[39m.\u001b[39;49mdata, label\u001b[39m=\u001b[39;49m\u001b[39mself\u001b[39;49m\u001b[39m.\u001b[39;49mlabel,\n\u001b[1;32m   <a href='file:///opt/homebrew/lib/python3.9/site-packages/lightgbm/basic.py?line=1815'>1816</a>\u001b[0m                     weight\u001b[39m=\u001b[39;49m\u001b[39mself\u001b[39;49m\u001b[39m.\u001b[39;49mweight, group\u001b[39m=\u001b[39;49m\u001b[39mself\u001b[39;49m\u001b[39m.\u001b[39;49mgroup,\n\u001b[1;32m   <a href='file:///opt/homebrew/lib/python3.9/site-packages/lightgbm/basic.py?line=1816'>1817</a>\u001b[0m                     init_score\u001b[39m=\u001b[39;49m\u001b[39mself\u001b[39;49m\u001b[39m.\u001b[39;49minit_score, predictor\u001b[39m=\u001b[39;49m\u001b[39mself\u001b[39;49m\u001b[39m.\u001b[39;49m_predictor,\n\u001b[1;32m   <a href='file:///opt/homebrew/lib/python3.9/site-packages/lightgbm/basic.py?line=1817'>1818</a>\u001b[0m                     silent\u001b[39m=\u001b[39;49m\u001b[39mself\u001b[39;49m\u001b[39m.\u001b[39;49msilent, feature_name\u001b[39m=\u001b[39;49m\u001b[39mself\u001b[39;49m\u001b[39m.\u001b[39;49mfeature_name,\n\u001b[1;32m   <a href='file:///opt/homebrew/lib/python3.9/site-packages/lightgbm/basic.py?line=1818'>1819</a>\u001b[0m                     categorical_feature\u001b[39m=\u001b[39;49m\u001b[39mself\u001b[39;49m\u001b[39m.\u001b[39;49mcategorical_feature, params\u001b[39m=\u001b[39;49m\u001b[39mself\u001b[39;49m\u001b[39m.\u001b[39;49mparams)\n\u001b[1;32m   <a href='file:///opt/homebrew/lib/python3.9/site-packages/lightgbm/basic.py?line=1819'>1820</a>\u001b[0m \u001b[39mif\u001b[39;00m \u001b[39mself\u001b[39m\u001b[39m.\u001b[39mfree_raw_data:\n\u001b[1;32m   <a href='file:///opt/homebrew/lib/python3.9/site-packages/lightgbm/basic.py?line=1820'>1821</a>\u001b[0m     \u001b[39mself\u001b[39m\u001b[39m.\u001b[39mdata \u001b[39m=\u001b[39m \u001b[39mNone\u001b[39;00m\n",
      "File \u001b[0;32m/opt/homebrew/lib/python3.9/site-packages/lightgbm/basic.py:1563\u001b[0m, in \u001b[0;36mDataset._lazy_init\u001b[0;34m(self, data, label, reference, weight, group, init_score, predictor, silent, feature_name, categorical_feature, params)\u001b[0m\n\u001b[1;32m   <a href='file:///opt/homebrew/lib/python3.9/site-packages/lightgbm/basic.py?line=1560'>1561</a>\u001b[0m     \u001b[39mself\u001b[39m\u001b[39m.\u001b[39mset_weight(weight)\n\u001b[1;32m   <a href='file:///opt/homebrew/lib/python3.9/site-packages/lightgbm/basic.py?line=1561'>1562</a>\u001b[0m \u001b[39mif\u001b[39;00m group \u001b[39mis\u001b[39;00m \u001b[39mnot\u001b[39;00m \u001b[39mNone\u001b[39;00m:\n\u001b[0;32m-> <a href='file:///opt/homebrew/lib/python3.9/site-packages/lightgbm/basic.py?line=1562'>1563</a>\u001b[0m     \u001b[39mself\u001b[39;49m\u001b[39m.\u001b[39;49mset_group(group)\n\u001b[1;32m   <a href='file:///opt/homebrew/lib/python3.9/site-packages/lightgbm/basic.py?line=1563'>1564</a>\u001b[0m \u001b[39mif\u001b[39;00m \u001b[39misinstance\u001b[39m(predictor, _InnerPredictor):\n\u001b[1;32m   <a href='file:///opt/homebrew/lib/python3.9/site-packages/lightgbm/basic.py?line=1564'>1565</a>\u001b[0m     \u001b[39mif\u001b[39;00m \u001b[39mself\u001b[39m\u001b[39m.\u001b[39m_predictor \u001b[39mis\u001b[39;00m \u001b[39mNone\u001b[39;00m \u001b[39mand\u001b[39;00m init_score \u001b[39mis\u001b[39;00m \u001b[39mnot\u001b[39;00m \u001b[39mNone\u001b[39;00m:\n",
      "File \u001b[0;32m/opt/homebrew/lib/python3.9/site-packages/lightgbm/basic.py:2229\u001b[0m, in \u001b[0;36mDataset.set_group\u001b[0;34m(self, group)\u001b[0m\n\u001b[1;32m   <a href='file:///opt/homebrew/lib/python3.9/site-packages/lightgbm/basic.py?line=2226'>2227</a>\u001b[0m \u001b[39mif\u001b[39;00m \u001b[39mself\u001b[39m\u001b[39m.\u001b[39mhandle \u001b[39mis\u001b[39;00m \u001b[39mnot\u001b[39;00m \u001b[39mNone\u001b[39;00m \u001b[39mand\u001b[39;00m group \u001b[39mis\u001b[39;00m \u001b[39mnot\u001b[39;00m \u001b[39mNone\u001b[39;00m:\n\u001b[1;32m   <a href='file:///opt/homebrew/lib/python3.9/site-packages/lightgbm/basic.py?line=2227'>2228</a>\u001b[0m     group \u001b[39m=\u001b[39m list_to_1d_numpy(group, np\u001b[39m.\u001b[39mint32, name\u001b[39m=\u001b[39m\u001b[39m'\u001b[39m\u001b[39mgroup\u001b[39m\u001b[39m'\u001b[39m)\n\u001b[0;32m-> <a href='file:///opt/homebrew/lib/python3.9/site-packages/lightgbm/basic.py?line=2228'>2229</a>\u001b[0m     \u001b[39mself\u001b[39;49m\u001b[39m.\u001b[39;49mset_field(\u001b[39m'\u001b[39;49m\u001b[39mgroup\u001b[39;49m\u001b[39m'\u001b[39;49m, group)\n\u001b[1;32m   <a href='file:///opt/homebrew/lib/python3.9/site-packages/lightgbm/basic.py?line=2229'>2230</a>\u001b[0m \u001b[39mreturn\u001b[39;00m \u001b[39mself\u001b[39m\n",
      "File \u001b[0;32m/opt/homebrew/lib/python3.9/site-packages/lightgbm/basic.py:1993\u001b[0m, in \u001b[0;36mDataset.set_field\u001b[0;34m(self, field_name, data)\u001b[0m\n\u001b[1;32m   <a href='file:///opt/homebrew/lib/python3.9/site-packages/lightgbm/basic.py?line=1990'>1991</a>\u001b[0m \u001b[39mif\u001b[39;00m type_data \u001b[39m!=\u001b[39m FIELD_TYPE_MAPPER[field_name]:\n\u001b[1;32m   <a href='file:///opt/homebrew/lib/python3.9/site-packages/lightgbm/basic.py?line=1991'>1992</a>\u001b[0m     \u001b[39mraise\u001b[39;00m \u001b[39mTypeError\u001b[39;00m(\u001b[39m\"\u001b[39m\u001b[39mInput type error for set_field\u001b[39m\u001b[39m\"\u001b[39m)\n\u001b[0;32m-> <a href='file:///opt/homebrew/lib/python3.9/site-packages/lightgbm/basic.py?line=1992'>1993</a>\u001b[0m _safe_call(_LIB\u001b[39m.\u001b[39;49mLGBM_DatasetSetField(\n\u001b[1;32m   <a href='file:///opt/homebrew/lib/python3.9/site-packages/lightgbm/basic.py?line=1993'>1994</a>\u001b[0m     \u001b[39mself\u001b[39;49m\u001b[39m.\u001b[39;49mhandle,\n\u001b[1;32m   <a href='file:///opt/homebrew/lib/python3.9/site-packages/lightgbm/basic.py?line=1994'>1995</a>\u001b[0m     c_str(field_name),\n\u001b[1;32m   <a href='file:///opt/homebrew/lib/python3.9/site-packages/lightgbm/basic.py?line=1995'>1996</a>\u001b[0m     ptr_data,\n\u001b[1;32m   <a href='file:///opt/homebrew/lib/python3.9/site-packages/lightgbm/basic.py?line=1996'>1997</a>\u001b[0m     ctypes\u001b[39m.\u001b[39;49mc_int(\u001b[39mlen\u001b[39;49m(data)),\n\u001b[1;32m   <a href='file:///opt/homebrew/lib/python3.9/site-packages/lightgbm/basic.py?line=1997'>1998</a>\u001b[0m     ctypes\u001b[39m.\u001b[39;49mc_int(type_data)))\n\u001b[1;32m   <a href='file:///opt/homebrew/lib/python3.9/site-packages/lightgbm/basic.py?line=1998'>1999</a>\u001b[0m \u001b[39mself\u001b[39m\u001b[39m.\u001b[39mversion \u001b[39m+\u001b[39m\u001b[39m=\u001b[39m \u001b[39m1\u001b[39m\n\u001b[1;32m   <a href='file:///opt/homebrew/lib/python3.9/site-packages/lightgbm/basic.py?line=1999'>2000</a>\u001b[0m \u001b[39mreturn\u001b[39;00m \u001b[39mself\u001b[39m\n",
      "File \u001b[0;32m/opt/homebrew/lib/python3.9/site-packages/lightgbm/basic.py:125\u001b[0m, in \u001b[0;36m_safe_call\u001b[0;34m(ret)\u001b[0m\n\u001b[1;32m    <a href='file:///opt/homebrew/lib/python3.9/site-packages/lightgbm/basic.py?line=116'>117</a>\u001b[0m \u001b[39m\"\"\"Check the return value from C API call.\u001b[39;00m\n\u001b[1;32m    <a href='file:///opt/homebrew/lib/python3.9/site-packages/lightgbm/basic.py?line=117'>118</a>\u001b[0m \n\u001b[1;32m    <a href='file:///opt/homebrew/lib/python3.9/site-packages/lightgbm/basic.py?line=118'>119</a>\u001b[0m \u001b[39mParameters\u001b[39;00m\n\u001b[0;32m   (...)\u001b[0m\n\u001b[1;32m    <a href='file:///opt/homebrew/lib/python3.9/site-packages/lightgbm/basic.py?line=121'>122</a>\u001b[0m \u001b[39m    The return value from C API calls.\u001b[39;00m\n\u001b[1;32m    <a href='file:///opt/homebrew/lib/python3.9/site-packages/lightgbm/basic.py?line=122'>123</a>\u001b[0m \u001b[39m\"\"\"\u001b[39;00m\n\u001b[1;32m    <a href='file:///opt/homebrew/lib/python3.9/site-packages/lightgbm/basic.py?line=123'>124</a>\u001b[0m \u001b[39mif\u001b[39;00m ret \u001b[39m!=\u001b[39m \u001b[39m0\u001b[39m:\n\u001b[0;32m--> <a href='file:///opt/homebrew/lib/python3.9/site-packages/lightgbm/basic.py?line=124'>125</a>\u001b[0m     \u001b[39mraise\u001b[39;00m LightGBMError(_LIB\u001b[39m.\u001b[39mLGBM_GetLastError()\u001b[39m.\u001b[39mdecode(\u001b[39m'\u001b[39m\u001b[39mutf-8\u001b[39m\u001b[39m'\u001b[39m))\n",
      "\u001b[0;31mLightGBMError\u001b[0m: Sum of query counts is not same with #data"
     ]
    }
   ],
   "source": [
    "\n",
    "gbm = lgb.LGBMRanker()\n",
    "\n",
    "\n",
    "gbm.fit(X_train, y_train, group=query_train,\n",
    "        eval_set=[(X_val, y_val)], eval_group=[query_val],\n",
    "        eval_at=[5, 10, 20], early_stopping_rounds=50)\n"
   ]
  },
  {
   "cell_type": "code",
   "execution_count": null,
   "metadata": {},
   "outputs": [
    {
     "data": {
      "text/plain": [
       "array([0., 0., 0., 0., 0., 0., 0., 0., 0., 0., 0., 0., 0., 0., 0., 0., 0.,\n",
       "       0., 0., 0., 0., 0., 0., 0., 0., 0., 0., 0., 0., 0., 0., 0., 0., 0.,\n",
       "       0., 0., 0., 0., 0., 0., 0., 0., 0., 0., 0., 0., 0., 0., 0., 0., 0.,\n",
       "       0., 0., 0., 0., 0., 0., 0., 0., 0., 0., 0., 0., 0., 0., 0., 0., 0.,\n",
       "       0., 0., 0., 0., 0., 0., 0., 0., 0., 0., 0., 0., 0., 0., 0., 0., 0.,\n",
       "       0., 0., 0., 0., 0., 0., 0., 0., 0., 0., 0., 0., 0., 0., 0., 0., 0.,\n",
       "       0., 0., 0., 0., 0., 0., 0., 0., 0., 0., 0., 0., 0., 0., 0., 0., 0.,\n",
       "       0., 0., 0., 0., 0., 0., 0., 0., 0., 0., 0., 0., 0., 0., 0., 0., 0.,\n",
       "       0., 0., 0., 0., 0., 0., 0., 0., 0., 0., 0., 0., 0., 0., 0., 0., 0.,\n",
       "       0., 0., 0., 0., 0., 0., 0., 0., 0., 0., 0., 0., 0., 0., 0., 0., 0.,\n",
       "       0., 0., 0., 0., 0., 0., 0., 0., 0., 0., 0., 0., 0., 0., 0., 0., 0.,\n",
       "       0., 0., 0., 0., 0., 0., 0., 0., 0., 0., 0., 0., 0., 0., 0., 0., 0.,\n",
       "       0., 0., 0., 0., 0., 0., 0., 0., 0., 0., 0., 0., 0., 0., 0., 0., 0.,\n",
       "       0., 0., 0., 0., 0., 0., 0., 0., 0., 0., 0., 0., 0., 0., 0., 0., 0.,\n",
       "       0., 0., 0., 0., 0., 0., 0., 0., 0., 0., 0., 0., 0., 0., 0., 0., 0.,\n",
       "       0., 0., 0., 0., 0., 0., 0., 0., 0., 0., 0., 0., 0., 0., 0., 0., 0.,\n",
       "       0., 0., 0., 0., 0., 0., 0., 0., 0., 0., 0., 0., 0., 0., 0., 0., 0.,\n",
       "       0., 0., 0., 0., 0., 0., 0., 0., 0., 0., 0., 0., 0., 0., 0., 0., 0.,\n",
       "       0., 0., 0., 0., 0., 0., 0., 0., 0., 0., 0., 0., 0., 0., 0., 0., 0.,\n",
       "       0., 0., 0., 0., 0., 0., 0., 0., 0., 0., 0., 0., 0., 0., 0., 0., 0.,\n",
       "       0., 0., 0., 0., 0., 0., 0., 0., 0., 0., 0., 0., 0., 0., 0., 0., 0.,\n",
       "       0., 0., 0., 0., 0., 0., 0., 0., 0., 0., 0., 0., 0., 0., 0., 0., 0.,\n",
       "       0., 0., 0., 0., 0., 0., 0., 0., 0., 0., 0., 0., 0., 0., 0., 0., 0.,\n",
       "       0., 0., 0., 0., 0., 0., 0., 0., 0., 0., 0., 0., 0., 0., 0., 0., 0.,\n",
       "       0., 0., 0., 0., 0., 0., 0., 0., 0., 0., 0., 0., 0., 0., 0., 0., 0.,\n",
       "       0., 0., 0., 0., 0., 0., 0., 0., 0., 0., 0., 0., 0., 0., 0., 0., 0.,\n",
       "       0., 0., 0., 0., 0., 0., 0., 0., 0., 0., 0., 0., 0., 0., 0., 0., 0.,\n",
       "       0., 0., 0., 0., 0., 0., 0., 0., 0., 0., 0., 0., 0., 0., 0., 0., 0.,\n",
       "       0., 0., 0., 0., 0., 0., 0., 0., 0., 0., 0., 0., 0., 0., 0., 0., 0.,\n",
       "       0., 0., 0., 0., 0., 0., 0., 0., 0., 0., 0., 0., 0., 0., 0., 0., 0.,\n",
       "       0., 0., 0., 0., 0., 0., 0., 0., 0., 0., 0., 0., 0., 0., 0., 0., 0.,\n",
       "       0., 0., 0., 0., 0., 0., 0., 0., 0., 0., 0., 0., 0., 0., 0., 0., 0.,\n",
       "       0., 0., 0., 0., 0., 0., 0., 0., 0., 0., 0., 0., 0., 0., 0., 0., 0.,\n",
       "       0., 0., 0., 0., 0., 0., 0., 0., 0., 0., 0., 0., 0., 0., 0., 0., 0.,\n",
       "       0., 0., 0., 0., 0., 0., 0., 0., 0., 0., 0., 0., 0., 0., 0., 0., 0.,\n",
       "       0., 0., 0., 0., 0., 0., 0., 0., 0., 0., 0., 0., 0., 0., 0., 0., 0.,\n",
       "       0., 0., 0., 0., 0., 0., 0., 0., 0., 0., 0., 0., 0., 0., 0., 0., 0.,\n",
       "       0., 0., 0., 0., 0., 0., 0., 0., 0., 0., 0., 0., 0., 0., 0., 0., 0.,\n",
       "       0., 0., 0., 0., 0., 0., 0., 0., 0., 0., 0., 0., 0., 0., 0., 0., 0.,\n",
       "       0., 0., 0., 0., 0., 0., 0., 0., 0., 0., 0., 0., 0., 0., 0., 0., 0.,\n",
       "       0., 0., 0., 0., 0., 0., 0., 0., 0., 0., 0., 0., 0., 0., 0., 0., 0.,\n",
       "       0., 0., 0., 0., 0., 0., 0., 0., 0., 0., 0., 0., 0., 0., 0., 0., 0.,\n",
       "       0., 0., 0., 0., 0., 0., 0., 0., 0., 0., 0., 0., 0., 0., 0., 0., 0.,\n",
       "       0., 0., 0., 0., 0., 0., 0., 0., 0., 0., 0., 0., 0., 0., 0., 0., 0.,\n",
       "       0., 0., 0., 0., 0., 0., 0., 0., 0., 0., 0., 0., 0., 0., 0., 0., 0.,\n",
       "       0., 0., 0., 0., 0., 0., 0., 0., 0., 0., 0., 0., 0., 0., 0., 0., 0.,\n",
       "       0., 0., 0., 0., 0., 0., 0., 0., 0., 0., 0., 0., 0., 0., 0., 0., 0.,\n",
       "       0., 0., 0., 0., 0., 0., 0., 0., 0., 0., 0., 0., 0., 0., 0., 0., 0.,\n",
       "       0., 0., 0., 0., 0., 0., 0., 0., 0., 0., 0., 0., 0., 0., 0., 0., 0.,\n",
       "       0., 0., 0., 0., 0., 0., 0., 0., 0., 0., 0., 0., 0., 0., 0., 0., 0.,\n",
       "       0., 0., 0., 0., 0., 0., 0., 0., 0., 0., 0., 0., 0., 0., 0., 0., 0.,\n",
       "       0., 0., 0., 0., 0., 0., 0., 0., 0., 0., 0., 0., 0., 0., 0., 0., 0.,\n",
       "       0., 0., 0., 0., 0., 0., 0., 0., 0., 0., 0., 0., 0., 0., 0., 0., 0.,\n",
       "       0., 0., 0., 0., 0., 0., 0., 0., 0., 0., 0., 0., 0., 0., 0., 0., 0.,\n",
       "       0., 0., 0., 0., 0., 0., 0., 0., 0., 0., 0., 0., 0., 0., 0., 0., 0.,\n",
       "       0., 0., 0., 0., 0., 0., 0., 0., 0., 0., 0., 0., 0., 0., 0., 0., 0.,\n",
       "       0., 0., 0., 0., 0., 0., 0., 0., 0., 0., 0., 0., 0., 0., 0., 0., 0.,\n",
       "       0., 0., 0., 0., 0., 0., 0., 0., 0., 0., 0., 0., 0., 0., 0., 0., 0.,\n",
       "       0., 0., 0., 0., 0., 0., 0., 0., 0., 0., 0., 0.])"
      ]
     },
     "execution_count": 25,
     "metadata": {},
     "output_type": "execute_result"
    }
   ],
   "source": [
    "test_pred = gbm.predict(X_test)\n",
    "test_pred"
   ]
  }
 ],
 "metadata": {
  "interpreter": {
   "hash": "b0fa6594d8f4cbf19f97940f81e996739fb7646882a419484c72d19e05852a7e"
  },
  "kernelspec": {
   "display_name": "Python 3.9.12 64-bit",
   "language": "python",
   "name": "python3"
  },
  "language_info": {
   "codemirror_mode": {
    "name": "ipython",
    "version": 3
   },
   "file_extension": ".py",
   "mimetype": "text/x-python",
   "name": "python",
   "nbconvert_exporter": "python",
   "pygments_lexer": "ipython3",
   "version": "3.9.12"
  },
  "orig_nbformat": 4
 },
 "nbformat": 4,
 "nbformat_minor": 2
}
